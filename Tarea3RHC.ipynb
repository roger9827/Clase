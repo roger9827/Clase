{
 "cells": [
  {
   "cell_type": "code",
   "execution_count": 25,
   "id": "21243641-a535-4ecf-8231-5dac2ed6184b",
   "metadata": {},
   "outputs": [],
   "source": [
    "import requests\n",
    "import pandas as pd\n",
    "import json\n",
    "import os\n",
    "import csv"
   ]
  },
  {
   "cell_type": "code",
   "execution_count": 26,
   "id": "e6951186-6bb9-40c5-aa97-be98f793adf1",
   "metadata": {},
   "outputs": [],
   "source": [
    "# Hay que definir la URL de la API de Wikipedia\n",
    "WIKIPEDIA_API_URL = \"https://es.wikipedia.org/w/api.php\""
   ]
  },
  {
   "cell_type": "code",
   "execution_count": 54,
   "id": "d41edced-a77f-4973-824d-3963068038da",
   "metadata": {},
   "outputs": [],
   "source": [
    "# Se tiene que hacer una petición para jalar los resúmenes de los artículos que contengan la palabra 'astro'\n",
    "params = {\n",
    "    \"action\": \"query\",\n",
    "    \"format\": \"json\",\n",
    "    \"list\": \"search\",\n",
    "    \"srsearch\": \"astro\",\n",
    "    \"srprop\": \"snippet\",\n",
    "    \"srinfo\": \"totalhits\",\n",
    "    \"utf8\": 1,\n",
    "    \"formatversion\": 2,\n",
    "    \"continue\": \"\",\n",
    "    \"srlimit\": 100\n",
    "}\n",
    "response = requests.get(WIKIPEDIA_API_URL, params=params)\n",
    "data = json.loads(response.text)"
   ]
  },
  {
   "cell_type": "code",
   "execution_count": 55,
   "id": "feb57052-4d29-47ab-86c5-26532a765f40",
   "metadata": {},
   "outputs": [],
   "source": [
    "# Crear una lista de diccionarios con los datos de los artículos\n",
    "articles = []\n",
    "for item in data['query']['search']:\n",
    "    article = {\n",
    "        'pageid': item['pageid'],\n",
    "        'titulo': item['title'],\n",
    "        'resumen': item['snippet']\n",
    "    }\n",
    "    articles.append(article)\n"
   ]
  },
  {
   "cell_type": "code",
   "execution_count": 56,
   "id": "2c3ceaa7-6fba-460b-9494-146cc3dcf992",
   "metadata": {},
   "outputs": [],
   "source": [
    "# Crear una función que verifique si un resumen contiene las palabras 'física' o 'ciencia'\n",
    "def contiene_palabra(resumen):\n",
    "    palabras_clave = ['física', 'ciencia']\n",
    "    for palabra in palabras_clave:\n",
    "        if palabra in resumen.lower():\n",
    "            return 1\n",
    "    return 0"
   ]
  },
  {
   "cell_type": "code",
   "execution_count": 57,
   "id": "84666c2b-f521-4125-9c53-5ce24c95846a",
   "metadata": {},
   "outputs": [],
   "source": [
    "# Agregar una columna al dataframe que indique si el resumen contiene alguna de las palabras clave\n",
    "for article in articles:\n",
    "    article['contiene_palabra'] = contiene_palabra(article['resumen'])"
   ]
  },
  {
   "cell_type": "code",
   "execution_count": 58,
   "id": "a91b609d-9ebd-4b60-8d3c-63d49165be64",
   "metadata": {},
   "outputs": [],
   "source": [
    "# Crear un dataframe a partir de la lista de diccionarios\n",
    "df = pd.DataFrame(articles)\n"
   ]
  },
  {
   "cell_type": "code",
   "execution_count": 59,
   "id": "66efa78e-5956-4f40-a1d8-2a76a1114340",
   "metadata": {},
   "outputs": [
    {
     "name": "stdout",
     "output_type": "stream",
     "text": [
      "     pageid                                 titulo  \\\n",
      "0     59546                     Objeto astronómico   \n",
      "1    526921                                ASTRO-E   \n",
      "2   1713556                   Astro Boy (película)   \n",
      "3   5053299                               El astro   \n",
      "4   2775932                                ASTRO-B   \n",
      "..      ...                                    ...   \n",
      "95  9249192                            Yoon San-ha   \n",
      "96   696551                    El Columpio Asesino   \n",
      "97  9941833                       Rocky (cantante)   \n",
      "98  9004190  Astros (canción de Ciro y los Persas)   \n",
      "99  7336206                           Astra Zarina   \n",
      "\n",
      "                                              resumen  contiene_palabra  \n",
      "0   «<span class=\"searchmatch\">Astro</span>» redir...                 0  \n",
      "1   <span class=\"searchmatch\">ASTRO</span>-E y <sp...                 0  \n",
      "2    cambian el nombre de Toby por &quot;<span cla...                 0  \n",
      "3   El <span class=\"searchmatch\">astro</span> (tít...                 0  \n",
      "4   <span class=\"searchmatch\">ASTRO</span>-B, baut...                 0  \n",
      "..                                                ...               ...  \n",
      "95  junto con los miembros de la banda, realizaron...                 0  \n",
      "96  colaboración con <span class=\"searchmatch\">Ast...                 0  \n",
      "97  5 miembros de <span class=\"searchmatch\">Astro<...                 0  \n",
      "98  «<span class=\"searchmatch\">Astros</span>» es u...                 0  \n",
      "99  <span class=\"searchmatch\">Astra</span> Zarina ...                 0  \n",
      "\n",
      "[100 rows x 4 columns]\n"
     ]
    }
   ],
   "source": [
    "# Mostrar el dataframe\n",
    "print(df)"
   ]
  },
  {
   "cell_type": "code",
   "execution_count": 39,
   "id": "43abc2f4-2368-4756-8e03-f0de35e51c48",
   "metadata": {},
   "outputs": [],
   "source": [
    "df.to_csv(r'C:\\Users\\rhash\\Desktop\\export_dataframe.csv', encoding='utf-8', index=False)"
   ]
  },
  {
   "cell_type": "code",
   "execution_count": 42,
   "id": "aab2de36-81d8-4d20-b0b5-546d12a2624f",
   "metadata": {},
   "outputs": [],
   "source": [
    "df.to_csv(r'./dftocsv.csv', sep='\\t', encoding='utf-8', header='true')"
   ]
  },
  {
   "cell_type": "code",
   "execution_count": null,
   "id": "a6d93b84-9eb8-466d-a205-889efd579ec4",
   "metadata": {},
   "outputs": [],
   "source": []
  }
 ],
 "metadata": {
  "kernelspec": {
   "display_name": "Python 3 (ipykernel)",
   "language": "python",
   "name": "python3"
  },
  "language_info": {
   "codemirror_mode": {
    "name": "ipython",
    "version": 3
   },
   "file_extension": ".py",
   "mimetype": "text/x-python",
   "name": "python",
   "nbconvert_exporter": "python",
   "pygments_lexer": "ipython3",
   "version": "3.9.13"
  }
 },
 "nbformat": 4,
 "nbformat_minor": 5
}
