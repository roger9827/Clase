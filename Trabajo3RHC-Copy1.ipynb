{
 "cells": [
  {
   "cell_type": "code",
   "execution_count": 3,
   "id": "ce26a7df-832c-4266-9db5-301628d42cf9",
   "metadata": {},
   "outputs": [],
   "source": [
    "import numpy as np"
   ]
  },
  {
   "cell_type": "code",
   "execution_count": 1,
   "id": "3f5cad18-b608-427c-a7ba-121723161973",
   "metadata": {},
   "outputs": [],
   "source": [
    "rows, cols = (7, 7)\n",
    "ar = []\n"
   ]
  },
  {
   "cell_type": "code",
   "execution_count": 6,
   "id": "b3e4a13e-34de-48d2-92a5-c81eefd2144d",
   "metadata": {},
   "outputs": [],
   "source": [
    "lista = np.arange(1,65,1)\n",
    "lista = lista.reshape(8,8)"
   ]
  },
  {
   "cell_type": "code",
   "execution_count": 8,
   "id": "9ce80216-6329-4e1e-a0e0-36fa8bd5dde6",
   "metadata": {},
   "outputs": [
    {
     "data": {
      "text/plain": [
       "array([[ 1,  2,  3,  4,  5,  6,  7,  8],\n",
       "       [ 9, 10, 11, 12, 13, 14, 15, 16],\n",
       "       [17, 18, 19, 20, 21, 22, 23, 24],\n",
       "       [25, 26, 27, 28, 29, 30, 31, 32],\n",
       "       [33, 34, 35, 36, 37, 38, 39, 40],\n",
       "       [41, 42, 43, 44, 45, 46, 47, 48],\n",
       "       [49, 50, 51, 52, 53, 54, 55, 56],\n",
       "       [57, 58, 59, 60, 61, 62, 63, 64]])"
      ]
     },
     "execution_count": 8,
     "metadata": {},
     "output_type": "execute_result"
    }
   ],
   "source": [
    "listb= lista\n",
    "lista\n",
    "\n"
   ]
  },
  {
   "cell_type": "code",
   "execution_count": 19,
   "id": "654ae7ec-214d-438b-93b1-6bd60d8463e5",
   "metadata": {},
   "outputs": [],
   "source": [
    "listb = lista.transpose()"
   ]
  },
  {
   "cell_type": "code",
   "execution_count": 54,
   "id": "e229aa94-5ce0-455e-8cb0-e7ffabdf5eb3",
   "metadata": {},
   "outputs": [
    {
     "data": {
      "text/plain": [
       "array([[ 1,  9, 17, 25, 33, 41, 49, 57],\n",
       "       [ 2, 10, 18, 26, 34, 42, 50, 58],\n",
       "       [ 3, 11, 19, 27, 35, 43, 51, 59],\n",
       "       [ 4, 12, 20, 28, 36, 44, 52, 60],\n",
       "       [ 5, 13, 21, 29, 37, 45, 53, 61],\n",
       "       [ 6, 14, 22, 30, 38, 46, 54, 62],\n",
       "       [ 7, 15, 23, 31, 39, 47, 55, 63],\n",
       "       [ 8, 16, 24, 32, 40, 48, 56, 64]])"
      ]
     },
     "execution_count": 54,
     "metadata": {},
     "output_type": "execute_result"
    }
   ],
   "source": [
    "lista"
   ]
  },
  {
   "cell_type": "code",
   "execution_count": 56,
   "id": "b5d1af27-f851-42e8-b575-d9b264aa067b",
   "metadata": {},
   "outputs": [],
   "source": [
    "#i are columns, j are rows ins case of array[i,j]\n",
    "\n",
    "for i in range (8)  :\n",
    "    for j in range (8) :\n",
    "        listb = str(lista[i][j])\n",
    "        encontrar = listb.find('3')\n",
    "        if(encontrar != -1):\n",
    "            lista[i][j] = -99\n",
    "        \n",
    "        \n",
    "        \n",
    "        \n",
    "        \n",
    "        \n",
    "        \n"
   ]
  },
  {
   "cell_type": "code",
   "execution_count": 57,
   "id": "19e2c617-69f1-4072-b050-85d6904e8f71",
   "metadata": {},
   "outputs": [
    {
     "data": {
      "text/plain": [
       "array([[  1,   9,  17,  25, -99,  41,  49,  57],\n",
       "       [  2,  10,  18,  26, -99,  42,  50,  58],\n",
       "       [-99,  11,  19,  27, -99, -99,  51,  59],\n",
       "       [  4,  12,  20,  28, -99,  44,  52,  60],\n",
       "       [  5, -99,  21,  29, -99,  45, -99,  61],\n",
       "       [  6,  14,  22, -99, -99,  46,  54,  62],\n",
       "       [  7,  15, -99, -99, -99,  47,  55, -99],\n",
       "       [  8,  16,  24, -99,  40,  48,  56,  64]])"
      ]
     },
     "execution_count": 57,
     "metadata": {},
     "output_type": "execute_result"
    }
   ],
   "source": [
    "lista"
   ]
  },
  {
   "cell_type": "code",
   "execution_count": 30,
   "id": "ec031df5-0aa5-45eb-b94b-b6b53a125bc1",
   "metadata": {},
   "outputs": [
    {
     "data": {
      "text/plain": [
       "'[ 2 10 18 26 34 42 50 58]'"
      ]
     },
     "execution_count": 30,
     "metadata": {},
     "output_type": "execute_result"
    }
   ],
   "source": [
    "\n"
   ]
  },
  {
   "cell_type": "code",
   "execution_count": 58,
   "id": "83109f0f-8262-4d56-9783-946019ed54dc",
   "metadata": {},
   "outputs": [],
   "source": [
    "#Ejercicio 3"
   ]
  },
  {
   "cell_type": "code",
   "execution_count": 61,
   "id": "495b7394-9ed4-4d85-899a-1215dc8f7962",
   "metadata": {},
   "outputs": [
    {
     "data": {
      "text/plain": [
       "array([0.4 , 0.41, 0.42, 0.43, 0.44, 0.45, 0.46, 0.47, 0.48, 0.49, 0.5 ,\n",
       "       0.51, 0.52, 0.53, 0.54, 0.55, 0.56, 0.57, 0.58, 0.59, 0.6 , 0.61,\n",
       "       0.62, 0.63, 0.64, 0.65, 0.66, 0.67, 0.68, 0.69, 0.7 , 0.71, 0.72,\n",
       "       0.73, 0.74, 0.75, 0.76, 0.77, 0.78, 0.79])"
      ]
     },
     "execution_count": 61,
     "metadata": {},
     "output_type": "execute_result"
    }
   ],
   "source": [
    "#parte 1\n",
    "Matriz = np.arange(0.4,0.8,0.01)\n",
    "Matriz"
   ]
  },
  {
   "cell_type": "code",
   "execution_count": 63,
   "id": "aef36919-f192-4d54-b261-1afaf7419306",
   "metadata": {},
   "outputs": [],
   "source": [
    "Matriz = np.reshape (Matriz,(8,5))"
   ]
  },
  {
   "cell_type": "code",
   "execution_count": 64,
   "id": "fe79ae2b-dbbe-4259-9a50-4dae43fdf4f9",
   "metadata": {},
   "outputs": [
    {
     "data": {
      "text/plain": [
       "array([[0.4 , 0.41, 0.42, 0.43, 0.44],\n",
       "       [0.45, 0.46, 0.47, 0.48, 0.49],\n",
       "       [0.5 , 0.51, 0.52, 0.53, 0.54],\n",
       "       [0.55, 0.56, 0.57, 0.58, 0.59],\n",
       "       [0.6 , 0.61, 0.62, 0.63, 0.64],\n",
       "       [0.65, 0.66, 0.67, 0.68, 0.69],\n",
       "       [0.7 , 0.71, 0.72, 0.73, 0.74],\n",
       "       [0.75, 0.76, 0.77, 0.78, 0.79]])"
      ]
     },
     "execution_count": 64,
     "metadata": {},
     "output_type": "execute_result"
    }
   ],
   "source": [
    "Matriz"
   ]
  },
  {
   "cell_type": "code",
   "execution_count": 66,
   "id": "9d88935f-552b-4993-9014-e2cf96ad70cd",
   "metadata": {},
   "outputs": [
    {
     "data": {
      "text/plain": [
       "array([[  1,   9,  17,  25, -99,  41,  49,  57],\n",
       "       [  2,  10,  18,  26, -99,  42,  50,  58],\n",
       "       [-99,  11,  19,  27, -99, -99,  51,  59],\n",
       "       [  4,  12,  20,  28, -99,  44,  52,  60],\n",
       "       [  5, -99,  21,  29, -99,  45, -99,  61],\n",
       "       [  6,  14,  22, -99, -99,  46,  54,  62],\n",
       "       [  7,  15, -99, -99, -99,  47,  55, -99],\n",
       "       [  8,  16,  24, -99,  40,  48,  56,  64]])"
      ]
     },
     "execution_count": 66,
     "metadata": {},
     "output_type": "execute_result"
    }
   ],
   "source": [
    "#Parte 2\n",
    "lista"
   ]
  },
  {
   "cell_type": "code",
   "execution_count": 67,
   "id": "6dfd7bf5-1b62-42c1-bbf5-d43f965e42aa",
   "metadata": {},
   "outputs": [],
   "source": [
    "matriza = np.append(Matriz, lista, axis= 1)"
   ]
  },
  {
   "cell_type": "code",
   "execution_count": 68,
   "id": "4ac79800-775a-4451-83ed-21e0f3d282c1",
   "metadata": {},
   "outputs": [
    {
     "data": {
      "text/plain": [
       "array([[  0.4 ,   0.41,   0.42,   0.43,   0.44,   1.  ,   9.  ,  17.  ,\n",
       "         25.  , -99.  ,  41.  ,  49.  ,  57.  ],\n",
       "       [  0.45,   0.46,   0.47,   0.48,   0.49,   2.  ,  10.  ,  18.  ,\n",
       "         26.  , -99.  ,  42.  ,  50.  ,  58.  ],\n",
       "       [  0.5 ,   0.51,   0.52,   0.53,   0.54, -99.  ,  11.  ,  19.  ,\n",
       "         27.  , -99.  , -99.  ,  51.  ,  59.  ],\n",
       "       [  0.55,   0.56,   0.57,   0.58,   0.59,   4.  ,  12.  ,  20.  ,\n",
       "         28.  , -99.  ,  44.  ,  52.  ,  60.  ],\n",
       "       [  0.6 ,   0.61,   0.62,   0.63,   0.64,   5.  , -99.  ,  21.  ,\n",
       "         29.  , -99.  ,  45.  , -99.  ,  61.  ],\n",
       "       [  0.65,   0.66,   0.67,   0.68,   0.69,   6.  ,  14.  ,  22.  ,\n",
       "        -99.  , -99.  ,  46.  ,  54.  ,  62.  ],\n",
       "       [  0.7 ,   0.71,   0.72,   0.73,   0.74,   7.  ,  15.  , -99.  ,\n",
       "        -99.  , -99.  ,  47.  ,  55.  , -99.  ],\n",
       "       [  0.75,   0.76,   0.77,   0.78,   0.79,   8.  ,  16.  ,  24.  ,\n",
       "        -99.  ,  40.  ,  48.  ,  56.  ,  64.  ]])"
      ]
     },
     "execution_count": 68,
     "metadata": {},
     "output_type": "execute_result"
    }
   ],
   "source": [
    "matriza"
   ]
  },
  {
   "cell_type": "code",
   "execution_count": 70,
   "id": "ca581d16-7d49-4f59-89f2-2a0cf09f4167",
   "metadata": {},
   "outputs": [],
   "source": [
    "#Parte 3\n",
    "\n",
    "m = np.array([])\n",
    "for i in range (13):\n",
    "    M = np.mean(matriza[:,i])\n",
    "    m = np.append(m,M)"
   ]
  },
  {
   "cell_type": "code",
   "execution_count": 72,
   "id": "4c3a13bd-bae5-476c-abc2-195826ca63e1",
   "metadata": {},
   "outputs": [
    {
     "data": {
      "text/plain": [
       "array([  0.575,   0.585,   0.595,   0.605,   0.615,  -8.25 ,  -1.5  ,\n",
       "         5.25 , -20.25 , -81.625,  26.75 ,  33.5  ,  40.25 ])"
      ]
     },
     "execution_count": 72,
     "metadata": {},
     "output_type": "execute_result"
    }
   ],
   "source": [
    "m"
   ]
  },
  {
   "cell_type": "code",
   "execution_count": 73,
   "id": "ba743307-1302-4641-8d13-fbe80f4ddfb3",
   "metadata": {},
   "outputs": [],
   "source": [
    "matriza2=np.vstack([matriza,m])"
   ]
  },
  {
   "cell_type": "code",
   "execution_count": 74,
   "id": "46a26d61-6e4d-40d0-9cfc-bf0fbb9e0d79",
   "metadata": {},
   "outputs": [
    {
     "data": {
      "text/plain": [
       "array([[  0.4  ,   0.41 ,   0.42 ,   0.43 ,   0.44 ,   1.   ,   9.   ,\n",
       "         17.   ,  25.   , -99.   ,  41.   ,  49.   ,  57.   ],\n",
       "       [  0.45 ,   0.46 ,   0.47 ,   0.48 ,   0.49 ,   2.   ,  10.   ,\n",
       "         18.   ,  26.   , -99.   ,  42.   ,  50.   ,  58.   ],\n",
       "       [  0.5  ,   0.51 ,   0.52 ,   0.53 ,   0.54 , -99.   ,  11.   ,\n",
       "         19.   ,  27.   , -99.   , -99.   ,  51.   ,  59.   ],\n",
       "       [  0.55 ,   0.56 ,   0.57 ,   0.58 ,   0.59 ,   4.   ,  12.   ,\n",
       "         20.   ,  28.   , -99.   ,  44.   ,  52.   ,  60.   ],\n",
       "       [  0.6  ,   0.61 ,   0.62 ,   0.63 ,   0.64 ,   5.   , -99.   ,\n",
       "         21.   ,  29.   , -99.   ,  45.   , -99.   ,  61.   ],\n",
       "       [  0.65 ,   0.66 ,   0.67 ,   0.68 ,   0.69 ,   6.   ,  14.   ,\n",
       "         22.   , -99.   , -99.   ,  46.   ,  54.   ,  62.   ],\n",
       "       [  0.7  ,   0.71 ,   0.72 ,   0.73 ,   0.74 ,   7.   ,  15.   ,\n",
       "        -99.   , -99.   , -99.   ,  47.   ,  55.   , -99.   ],\n",
       "       [  0.75 ,   0.76 ,   0.77 ,   0.78 ,   0.79 ,   8.   ,  16.   ,\n",
       "         24.   , -99.   ,  40.   ,  48.   ,  56.   ,  64.   ],\n",
       "       [  0.575,   0.585,   0.595,   0.605,   0.615,  -8.25 ,  -1.5  ,\n",
       "          5.25 , -20.25 , -81.625,  26.75 ,  33.5  ,  40.25 ]])"
      ]
     },
     "execution_count": 74,
     "metadata": {},
     "output_type": "execute_result"
    }
   ],
   "source": [
    "matriza2"
   ]
  },
  {
   "cell_type": "code",
   "execution_count": 78,
   "id": "ef1bf501-bd6b-43ff-ac60-665f687b3311",
   "metadata": {},
   "outputs": [],
   "source": [
    "s = np.array([])\n",
    "for i in range(9):\n",
    "    maxi = max(matriza2[i, :])\n",
    "    s = np.append(s,maxi)"
   ]
  },
  {
   "cell_type": "code",
   "execution_count": 79,
   "id": "64969e63-a1ea-4c0b-8c9b-99806617de09",
   "metadata": {},
   "outputs": [
    {
     "data": {
      "text/plain": [
       "array([57.  , 58.  , 59.  , 60.  , 61.  , 62.  , 55.  , 64.  , 40.25])"
      ]
     },
     "execution_count": 79,
     "metadata": {},
     "output_type": "execute_result"
    }
   ],
   "source": [
    "s.transpose()"
   ]
  },
  {
   "cell_type": "code",
   "execution_count": null,
   "id": "c51a8d2e-963e-420c-9fde-f5273c9c5a7f",
   "metadata": {},
   "outputs": [],
   "source": [
    "matriz3=np.append(matriza2, np.array)"
   ]
  }
 ],
 "metadata": {
  "kernelspec": {
   "display_name": "Python 3 (ipykernel)",
   "language": "python",
   "name": "python3"
  },
  "language_info": {
   "codemirror_mode": {
    "name": "ipython",
    "version": 3
   },
   "file_extension": ".py",
   "mimetype": "text/x-python",
   "name": "python",
   "nbconvert_exporter": "python",
   "pygments_lexer": "ipython3",
   "version": "3.9.13"
  }
 },
 "nbformat": 4,
 "nbformat_minor": 5
}
