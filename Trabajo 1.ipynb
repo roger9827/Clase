{
 "cells": [
  {
   "cell_type": "code",
   "execution_count": 38,
   "id": "40a0d563-a2f0-4693-995a-58b2ab5cb30e",
   "metadata": {},
   "outputs": [],
   "source": [
    "i = 0\n",
    "lista = []\n",
    "x = 0\n",
    "while i < 12:\n",
    "    lista.append(x)\n",
    "    x = x+1\n",
    "    i = i + 1\n",
    "    "
   ]
  },
  {
   "cell_type": "code",
   "execution_count": 2,
   "id": "f5d1b77e-94bc-4932-878c-f0828d8b0813",
   "metadata": {},
   "outputs": [
    {
     "name": "stdout",
     "output_type": "stream",
     "text": [
      "[0, 1, 2, 3, 4, 5, 6, 7, 8, 9, 10, 11]\n"
     ]
    }
   ],
   "source": [
    "print (lista)"
   ]
  },
  {
   "cell_type": "code",
   "execution_count": 1,
   "id": "0d3bb9cf-6597-4ee2-96cb-aef452d852b5",
   "metadata": {},
   "outputs": [],
   "source": [
    "import csv"
   ]
  },
  {
   "cell_type": "code",
   "execution_count": 2,
   "id": "8f43ed00-e8df-4e15-8cd4-1c5a2e09a0d8",
   "metadata": {},
   "outputs": [],
   "source": [
    "with open (r'50-contacts.csv') as file:\n",
    "    reader= csv.reader(file)\n",
    "    # Se brinca el encabezado\n",
    "    header = next(reader)\n",
    "    data = []\n",
    "    for row in reader:\n",
    "        data.append(row)\n",
    "file.close()\n",
    "        "
   ]
  },
  {
   "cell_type": "code",
   "execution_count": 3,
   "id": "c98c0a8a-0b65-4b30-8588-28fe7faa330e",
   "metadata": {},
   "outputs": [
    {
     "name": "stdout",
     "output_type": "stream",
     "text": [
      "50\n"
     ]
    }
   ],
   "source": [
    "print (len(data))\n",
    "up = len (data)\n"
   ]
  },
  {
   "cell_type": "code",
   "execution_count": 17,
   "id": "2791febc-1751-4752-b01f-792b56ae3476",
   "metadata": {},
   "outputs": [
    {
     "name": "stdout",
     "output_type": "stream",
     "text": [
      "2\n",
      "James\n",
      "4\n",
      "Josephine\n",
      "1\n",
      "Art\n",
      "2\n",
      "Lenna\n",
      "3\n",
      "Donette\n",
      "3\n",
      "Simona\n",
      "3\n",
      "Mitsue\n",
      "3\n",
      "Leota\n",
      "2\n",
      "Sage\n",
      "1\n",
      "Kris\n",
      "2\n",
      "Minna\n",
      "2\n",
      "Abel\n",
      "3\n",
      "Kiley\n",
      "4\n",
      "Graciela\n",
      "2\n",
      "Cammy\n",
      "3\n",
      "Mattie\n",
      "3\n",
      "Meaghan\n",
      "2\n",
      "Gladys\n",
      "3\n",
      "Yuki\n",
      "2\n",
      "Fletcher\n",
      "2\n",
      "Bette\n",
      "4\n",
      "Veronika\n",
      "2\n",
      "Willard\n",
      "3\n",
      "Maryann\n",
      "3\n",
      "Alisha\n",
      "3\n",
      "Allene\n",
      "2\n",
      "Chanel\n",
      "4\n",
      "Ezekiel\n",
      "2\n",
      "Willow\n",
      "3\n",
      "Bernardo\n",
      "3\n",
      "Ammie\n",
      "3\n",
      "Francine\n",
      "3\n",
      "Ernie\n",
      "3\n",
      "Albina\n",
      "4\n",
      "Alishia\n",
      "3\n",
      "Solange\n",
      "2\n",
      "Jose\n",
      "3\n",
      "Rozella\n",
      "4\n",
      "Valentine\n",
      "2\n",
      "Kati\n",
      "5\n",
      "Youlanda\n",
      "2\n",
      "Dyan\n",
      "3\n",
      "Roxane\n",
      "3\n",
      "Lavera\n",
      "2\n",
      "Erick\n",
      "3\n",
      "Fatima\n",
      "2\n",
      "Jina\n",
      "3\n",
      "Kanisha\n",
      "3\n",
      "Emerson\n",
      "2\n",
      "Blair\n"
     ]
    }
   ],
   "source": [
    "i=0\n",
    "stand = []\n",
    "NumLetra = []\n",
    "while i < up:\n",
    "    stand.append(data[i][0])\n",
    "    txt = data[i][0].lower()\n",
    "    \n",
    "    def findVowels(txt):\n",
    "        vowels = 0\n",
    "        for letter in txt:\n",
    "            if letter in 'aeiouy':\n",
    "                vowels += 1\n",
    "        return vowels\n",
    "        \n",
    "    print (findVowels(txt))\n",
    "    NumLetra.append((findVowels(txt)))\n",
    "    \n",
    "    print (data[i][0])\n",
    "    i = i + 1"
   ]
  },
  {
   "cell_type": "code",
   "execution_count": 6,
   "id": "6fad07d3-160a-4fa6-aabe-646ebf0c4955",
   "metadata": {},
   "outputs": [],
   "source": [
    "stand.insert(0,'Username')\n",
    "NumLetra.insert(0,'Number of vowels')\n",
    "\n",
    "\n"
   ]
  },
  {
   "cell_type": "code",
   "execution_count": 7,
   "id": "2ce1ddd9-9097-4bb8-9d8d-5ee23de0c7b2",
   "metadata": {},
   "outputs": [],
   "source": [
    "output = []\n",
    "\n",
    "output.append(stand)\n",
    "output.append(NumLetra)"
   ]
  },
  {
   "cell_type": "code",
   "execution_count": 8,
   "id": "dcce45c4-b2fd-482f-9af8-b7b93b175594",
   "metadata": {},
   "outputs": [
    {
     "data": {
      "text/plain": [
       "[['Username',\n",
       "  'James',\n",
       "  'Josephine',\n",
       "  'Art',\n",
       "  'Lenna',\n",
       "  'Donette',\n",
       "  'Simona',\n",
       "  'Mitsue',\n",
       "  'Leota',\n",
       "  'Sage',\n",
       "  'Kris',\n",
       "  'Minna',\n",
       "  'Abel',\n",
       "  'Kiley',\n",
       "  'Graciela',\n",
       "  'Cammy',\n",
       "  'Mattie',\n",
       "  'Meaghan',\n",
       "  'Gladys',\n",
       "  'Yuki',\n",
       "  'Fletcher',\n",
       "  'Bette',\n",
       "  'Veronika',\n",
       "  'Willard',\n",
       "  'Maryann',\n",
       "  'Alisha',\n",
       "  'Allene',\n",
       "  'Chanel',\n",
       "  'Ezekiel',\n",
       "  'Willow',\n",
       "  'Bernardo',\n",
       "  'Ammie',\n",
       "  'Francine',\n",
       "  'Ernie',\n",
       "  'Albina',\n",
       "  'Alishia',\n",
       "  'Solange',\n",
       "  'Jose',\n",
       "  'Rozella',\n",
       "  'Valentine',\n",
       "  'Kati',\n",
       "  'Youlanda',\n",
       "  'Dyan',\n",
       "  'Roxane',\n",
       "  'Lavera',\n",
       "  'Erick',\n",
       "  'Fatima',\n",
       "  'Jina',\n",
       "  'Kanisha',\n",
       "  'Emerson',\n",
       "  'Blair'],\n",
       " ['Number of vowels',\n",
       "  2,\n",
       "  4,\n",
       "  1,\n",
       "  2,\n",
       "  3,\n",
       "  3,\n",
       "  3,\n",
       "  3,\n",
       "  2,\n",
       "  1,\n",
       "  2,\n",
       "  2,\n",
       "  3,\n",
       "  4,\n",
       "  2,\n",
       "  3,\n",
       "  3,\n",
       "  2,\n",
       "  3,\n",
       "  2,\n",
       "  2,\n",
       "  4,\n",
       "  2,\n",
       "  3,\n",
       "  3,\n",
       "  3,\n",
       "  2,\n",
       "  4,\n",
       "  2,\n",
       "  3,\n",
       "  3,\n",
       "  3,\n",
       "  3,\n",
       "  3,\n",
       "  4,\n",
       "  3,\n",
       "  2,\n",
       "  3,\n",
       "  4,\n",
       "  2,\n",
       "  5,\n",
       "  2,\n",
       "  3,\n",
       "  3,\n",
       "  2,\n",
       "  3,\n",
       "  2,\n",
       "  3,\n",
       "  3,\n",
       "  2]]"
      ]
     },
     "execution_count": 8,
     "metadata": {},
     "output_type": "execute_result"
    }
   ],
   "source": [
    "output"
   ]
  },
  {
   "cell_type": "code",
   "execution_count": 13,
   "id": "6bffcdca-7c40-44a5-9157-59d34f7ec0af",
   "metadata": {},
   "outputs": [],
   "source": [
    "with open('file.csv', 'w', newline='') as f:\n",
    "    writer = csv.writer(f)\n",
    "    writer.writerows(output)"
   ]
  },
  {
   "cell_type": "code",
   "execution_count": 10,
   "id": "7d20ecda-9ae6-4d2e-99c3-91d04da27960",
   "metadata": {},
   "outputs": [
    {
     "data": {
      "text/plain": [
       "['rogelio@gmail.com', 'rogel@gmail.com', 'perseo@griego.com']"
      ]
     },
     "execution_count": 10,
     "metadata": {},
     "output_type": "execute_result"
    }
   ],
   "source": [
    "email = []\n",
    "email = ['rogelio@gmail.com', 'rogel@gmail.com','perseo@griego.com' ]\n",
    "email"
   ]
  },
  {
   "cell_type": "code",
   "execution_count": 11,
   "id": "6ea1864b-446f-4c61-ac9e-1d2cd8b21eef",
   "metadata": {},
   "outputs": [
    {
     "data": {
      "text/plain": [
       "['gmail', '']"
      ]
     },
     "execution_count": 11,
     "metadata": {},
     "output_type": "execute_result"
    }
   ],
   "source": [
    "\n",
    "  email[0].split('@')[1].split('.com')"
   ]
  },
  {
   "cell_type": "code",
   "execution_count": 49,
   "id": "8f2c78f2-35c1-4db2-8fd8-04d8f40b5f2d",
   "metadata": {},
   "outputs": [],
   "source": [
    "mails = []\n",
    "domain = []"
   ]
  },
  {
   "cell_type": "code",
   "execution_count": 82,
   "id": "4b0bfd88-b40a-4d72-9567-b05587123812",
   "metadata": {},
   "outputs": [],
   "source": [
    "i=0\n",
    "while i < up:\n",
    "    mails.append(data[i][10])\n",
    "    domain.append( mails[i].split('@')[1].split('.')[0])\n",
    "    i= i + 1"
   ]
  },
  {
   "cell_type": "code",
   "execution_count": 79,
   "id": "ea10f5f5-2e4f-404a-b48a-c232d3bd813c",
   "metadata": {},
   "outputs": [
    {
     "name": "stdout",
     "output_type": "stream",
     "text": [
      "darakjy.org\n"
     ]
    }
   ],
   "source": [
    "print ( mails[1].split('@')[1].split('.com')[0])"
   ]
  },
  {
   "cell_type": "code",
   "execution_count": 63,
   "id": "ecc29f48-18d5-40e6-b070-0a9a8e764344",
   "metadata": {},
   "outputs": [],
   "source": [
    "domain.append( mails[i].split('@')[1].split('.com')[])"
   ]
  },
  {
   "cell_type": "code",
   "execution_count": 81,
   "id": "4deaaacd-1cd6-4a08-9064-ce15d031258d",
   "metadata": {},
   "outputs": [],
   "source": [
    "domain.clear()"
   ]
  },
  {
   "cell_type": "code",
   "execution_count": 83,
   "id": "e9ff4909-7e99-470b-a3ef-d5293ea43822",
   "metadata": {},
   "outputs": [
    {
     "data": {
      "text/plain": [
       "['gmail',\n",
       " 'darakjy',\n",
       " 'venere',\n",
       " 'hotmail',\n",
       " 'gmail',\n",
       " 'darakjy',\n",
       " 'venere',\n",
       " 'hotmail',\n",
       " 'cox',\n",
       " 'morasca',\n",
       " 'yahoo',\n",
       " 'hotmail',\n",
       " 'cox',\n",
       " 'gmail',\n",
       " 'yahoo',\n",
       " 'gmail',\n",
       " 'aol',\n",
       " 'cox',\n",
       " 'gmail',\n",
       " 'aol',\n",
       " 'hotmail',\n",
       " 'rim',\n",
       " 'aol',\n",
       " 'yahoo',\n",
       " 'cox',\n",
       " 'aol',\n",
       " 'hotmail',\n",
       " 'royster',\n",
       " 'slusarski',\n",
       " 'cox',\n",
       " 'caudy',\n",
       " 'chui',\n",
       " 'yahoo',\n",
       " 'aol',\n",
       " 'corrio',\n",
       " 'vocelka',\n",
       " 'aol',\n",
       " 'glick',\n",
       " 'gmail',\n",
       " 'shinko',\n",
       " 'yahoo',\n",
       " 'ostrosky',\n",
       " 'gmail',\n",
       " 'hotmail',\n",
       " 'aol',\n",
       " 'aol',\n",
       " 'hotmail',\n",
       " 'perin',\n",
       " 'aol',\n",
       " 'saylors']"
      ]
     },
     "execution_count": 83,
     "metadata": {},
     "output_type": "execute_result"
    }
   ],
   "source": [
    "domain"
   ]
  },
  {
   "cell_type": "code",
   "execution_count": 85,
   "id": "bb863c7e-e6bb-4de0-ad32-219167236c9b",
   "metadata": {},
   "outputs": [
    {
     "data": {
      "text/plain": [
       "{'aol',\n",
       " 'caudy',\n",
       " 'chui',\n",
       " 'corrio',\n",
       " 'cox',\n",
       " 'darakjy',\n",
       " 'glick',\n",
       " 'gmail',\n",
       " 'hotmail',\n",
       " 'morasca',\n",
       " 'ostrosky',\n",
       " 'perin',\n",
       " 'rim',\n",
       " 'royster',\n",
       " 'saylors',\n",
       " 'shinko',\n",
       " 'slusarski',\n",
       " 'venere',\n",
       " 'vocelka',\n",
       " 'yahoo'}"
      ]
     },
     "execution_count": 85,
     "metadata": {},
     "output_type": "execute_result"
    }
   ],
   "source": [
    "set(domain)"
   ]
  },
  {
   "cell_type": "code",
   "execution_count": null,
   "id": "7b11ceaf-757b-4076-ade9-e13dfb14f911",
   "metadata": {},
   "outputs": [],
   "source": []
  }
 ],
 "metadata": {
  "kernelspec": {
   "display_name": "Python 3 (ipykernel)",
   "language": "python",
   "name": "python3"
  },
  "language_info": {
   "codemirror_mode": {
    "name": "ipython",
    "version": 3
   },
   "file_extension": ".py",
   "mimetype": "text/x-python",
   "name": "python",
   "nbconvert_exporter": "python",
   "pygments_lexer": "ipython3",
   "version": "3.9.13"
  }
 },
 "nbformat": 4,
 "nbformat_minor": 5
}
